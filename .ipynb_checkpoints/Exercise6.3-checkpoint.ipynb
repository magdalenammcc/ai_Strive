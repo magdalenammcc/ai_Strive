{
 "cells": [
  {
   "cell_type": "code",
   "execution_count": 66,
   "metadata": {},
   "outputs": [
    {
     "data": {
      "text/plain": [
       "3"
      ]
     },
     "execution_count": 66,
     "metadata": {},
     "output_type": "execute_result"
    }
   ],
   "source": [
    "# Counting wood.\n",
    "import string\n",
    "exclude = set(string.punctuation)\n",
    "list_of_strings=[] #initialization of list to hold all strings\n",
    "\n",
    "text = \"\"\"How much wood would a woodchuck chuck \\\n",
    "If a woodchuck could chuck wood? \\\n",
    "He would chuck, he would, as much as he could, \\\n",
    "And chuck as much as a woodchuck would \\\n",
    "If a Mr. Smith could chuck wood\\n\\r\\t.\"\"\" # read whole text\n",
    "def wood_counter(text, keyword=\"wood\"): #we can find other words by changing the keyword\n",
    "    text2=text.replace(\"\\n\",\" \") # get rid \\n\n",
    "    text3 = ''.join(ch for ch in text2 if ch not in exclude) # get rid of ?. special grammar\n",
    "    text4=text3.lower() # lowercase my sentence\n",
    "\n",
    "    list_of_strings=text4.split() # split the string by some character\n",
    "\n",
    "    count=list_of_strings.count(\"wood\") #count how many times we have this occurrence\n",
    "    \n",
    "    return count # return the number of times we find the keyword\n",
    "\n",
    "wood_counter(text)\n",
    "    "
   ]
  }
 ],
 "metadata": {
  "kernelspec": {
   "display_name": "Python 3",
   "language": "python",
   "name": "python3"
  },
  "language_info": {
   "codemirror_mode": {
    "name": "ipython",
    "version": 3
   },
   "file_extension": ".py",
   "mimetype": "text/x-python",
   "name": "python",
   "nbconvert_exporter": "python",
   "pygments_lexer": "ipython3",
   "version": "3.7.3"
  }
 },
 "nbformat": 4,
 "nbformat_minor": 2
}
