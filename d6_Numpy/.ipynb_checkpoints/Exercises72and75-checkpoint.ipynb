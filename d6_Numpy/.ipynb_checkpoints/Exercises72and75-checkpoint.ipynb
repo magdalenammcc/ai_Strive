{
 "cells": [
  {
   "cell_type": "code",
   "execution_count": 6,
   "id": "complimentary-handbook",
   "metadata": {
    "slideshow": {
     "slide_type": "slide"
    }
   },
   "outputs": [],
   "source": [
    "# Import the needed libraries\n",
    "import numpy as np"
   ]
  },
  {
   "cell_type": "markdown",
   "id": "pacific-kentucky",
   "metadata": {},
   "source": [
    "**72. How to swap two rows of an array?** "
   ]
  },
  {
   "cell_type": "code",
   "execution_count": 23,
   "id": "proper-reservoir",
   "metadata": {},
   "outputs": [
    {
     "name": "stdout",
     "output_type": "stream",
     "text": [
      "Here is the original array:\n",
      "[[ 1  2  3  4]\n",
      " [ 5  6  7  8]\n",
      " [ 9 10 11 12]]\n",
      "What lines would you like to swap from this array?\n",
      "Please choose one number between 0, 1, and 2, clicking Enter afterwards: \n",
      "0\n",
      "Again choose one number between 0, 1, and 2, clicking Enter afterwards: \n",
      "1\n",
      "[1 2 3 4]\n",
      "[5 6 7 8]\n",
      "Here is the swaped array:\n",
      "[[ 5  6  7  8]\n",
      " [ 5  6  7  8]\n",
      " [ 9 10 11 12]]\n"
     ]
    }
   ],
   "source": [
    "example_array = np.array([[1,2,3,4],[5,6,7,8],[9,10,11,12]])  #creation of 3d example array\n",
    " #initialization of variables to read from keyboard\n",
    "print (\"Here is the original array:\")\n",
    "print (example_array)\n",
    "\n",
    "print (\"What lines would you like to swap from this array?\")\n",
    "print (\"Please choose one number between 0, 1, and 2, clicking Enter afterwards: \")\n",
    "prompt1=int(input()) #reading the lines from keyboard\n",
    "print (\"Again choose one number between 0, 1, and 2, clicking Enter afterwards: \")\n",
    "prompt2=int(input())\n",
    "temp_array1=example_array[prompt1,:]\n",
    "print(temp_array1)\n",
    "\n",
    "temp_array2=example_array[prompt2,:]\n",
    "print(temp_array2)\n",
    "example_array[prompt1,:],example_array[prompt2,:]=temp_array2,temp_array1\n",
    "\n",
    "print(\"Here is the swaped array:\")\n",
    "print(example_array)  #I am sorry, obviously I am not able to swap lines :cry:"
   ]
  },
  {
   "cell_type": "markdown",
   "id": "outer-encoding",
   "metadata": {},
   "source": [
    "**75. How to compute averages using a sliding window over an array?**"
   ]
  },
  {
   "cell_type": "code",
   "execution_count": null,
   "id": "active-reply",
   "metadata": {},
   "outputs": [],
   "source": [
    "#sorry 5 min to de-briefing :("
   ]
  }
 ],
 "metadata": {
  "kernelspec": {
   "display_name": "Python 3",
   "language": "python",
   "name": "python3"
  },
  "language_info": {
   "codemirror_mode": {
    "name": "ipython",
    "version": 3
   },
   "file_extension": ".py",
   "mimetype": "text/x-python",
   "name": "python",
   "nbconvert_exporter": "python",
   "pygments_lexer": "ipython3",
   "version": "3.9.2"
  }
 },
 "nbformat": 4,
 "nbformat_minor": 5
}
