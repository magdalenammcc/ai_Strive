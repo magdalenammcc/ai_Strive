{
 "cells": [
  {
   "cell_type": "code",
   "execution_count": null,
   "id": "biological-worcester",
   "metadata": {},
   "outputs": [],
   "source": [
    "# Import the needed libraries"
   ]
  },
  {
   "cell_type": "markdown",
   "id": "champion-greensboro",
   "metadata": {},
   "source": [
    "**13. Create a 10x10 array with random values and find the minimum and maximum values**"
   ]
  },
  {
   "cell_type": "code",
   "execution_count": 2,
   "id": "joint-explorer",
   "metadata": {},
   "outputs": [
    {
     "name": "stdout",
     "output_type": "stream",
     "text": [
      "The minimum value is 0.0022318327954297112\n",
      "The maximum value is 0.9788609137885725\n"
     ]
    }
   ],
   "source": [
    "import numpy as np\n",
    "a=np.random.uniform(size=(10,10))\n",
    "minimum_value=np.amin(a)\n",
    "maximum_value=np.amax(a)\n",
    "print(\"The minimum value is {}\".format(minimum_value))\n",
    "\n",
    "print(\"The maximum value is {}\".format(maximum_value))"
   ]
  },
  {
   "cell_type": "markdown",
   "id": "exempt-organ",
   "metadata": {},
   "source": [
    "**15. Create a 2d array with 1 on the border and 0 inside**"
   ]
  },
  {
   "cell_type": "code",
   "execution_count": 6,
   "id": "sufficient-facility",
   "metadata": {},
   "outputs": [
    {
     "data": {
      "text/plain": [
       "array([[1., 1., 1.],\n",
       "       [1., 0., 1.],\n",
       "       [1., 1., 1.]])"
      ]
     },
     "execution_count": 6,
     "metadata": {},
     "output_type": "execute_result"
    }
   ],
   "source": [
    "d=np.ones((3,3))\n",
    "d[1,1]=0\n",
    "d"
   ]
  }
 ],
 "metadata": {
  "kernelspec": {
   "display_name": "Python 3",
   "language": "python",
   "name": "python3"
  },
  "language_info": {
   "codemirror_mode": {
    "name": "ipython",
    "version": 3
   },
   "file_extension": ".py",
   "mimetype": "text/x-python",
   "name": "python",
   "nbconvert_exporter": "python",
   "pygments_lexer": "ipython3",
   "version": "3.9.2"
  }
 },
 "nbformat": 4,
 "nbformat_minor": 5
}
